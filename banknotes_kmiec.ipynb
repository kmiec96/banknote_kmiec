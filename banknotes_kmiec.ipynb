{
 "cells": [
  {
   "cell_type": "markdown",
   "metadata": {},
   "source": [
    "# Counterfeit detection"
   ]
  },
  {
   "cell_type": "markdown",
   "metadata": {},
   "source": [
    "The task in this assignment is to detect the  counterfeit banknotes. The data set is based on [banknote authentication Data Set ](https://archive.ics.uci.edu/ml/datasets/banknote+authentication#) from UCI Machine Learning repository. The first three columns denote different parameters obtained from the photographs of the banknotes and last colum provides the label. Frankly as the dataset does not have any description I don't know  which labels corresponds to real and which to counterfeited banknotes. let's assume that label one (positive) denotes the clounterfeits. The set  \"banknote_authentication.csv\" can be found in the data  directory."
   ]
  },
  {
   "cell_type": "code",
   "execution_count": 138,
   "metadata": {},
   "outputs": [
    {
     "name": "stdout",
     "output_type": "stream",
     "text": [
      "DONE\n"
     ]
    }
   ],
   "source": [
    "#All necessary libraries\n",
    "import pandas as pd\n",
    "import numpy as np\n",
    "import matplotlib.pyplot as plt\n",
    "import scipy.stats as st\n",
    "import sys\n",
    "from sklearn.discriminant_analysis import QuadraticDiscriminantAnalysis\n",
    "from sklearn.model_selection import train_test_split\n",
    "from sklearn.metrics import roc_curve, roc_auc_score, confusion_matrix, plot_confusion_matrix\n",
    "from sklearn.metrics import f1_score, precision_score, recall_score\n",
    "from IPython.display import display\n",
    "from sklearn.mixture import GaussianMixture\n",
    "from sklearn.model_selection import StratifiedKFold\n",
    "from sklearn.model_selection import cross_val_score, cross_validate\n",
    "print(\"DONE\")"
   ]
  },
  {
   "cell_type": "code",
   "execution_count": 139,
   "metadata": {},
   "outputs": [
    {
     "data": {
      "text/html": [
       "<div>\n",
       "<style scoped>\n",
       "    .dataframe tbody tr th:only-of-type {\n",
       "        vertical-align: middle;\n",
       "    }\n",
       "\n",
       "    .dataframe tbody tr th {\n",
       "        vertical-align: top;\n",
       "    }\n",
       "\n",
       "    .dataframe thead th {\n",
       "        text-align: right;\n",
       "    }\n",
       "</style>\n",
       "<table border=\"1\" class=\"dataframe\">\n",
       "  <thead>\n",
       "    <tr style=\"text-align: right;\">\n",
       "      <th></th>\n",
       "      <th>a1</th>\n",
       "      <th>a2</th>\n",
       "      <th>a3</th>\n",
       "      <th>counterfeit</th>\n",
       "    </tr>\n",
       "  </thead>\n",
       "  <tbody>\n",
       "    <tr>\n",
       "      <th>0</th>\n",
       "      <td>12.3784</td>\n",
       "      <td>0.70403</td>\n",
       "      <td>-7.58360</td>\n",
       "      <td>0</td>\n",
       "    </tr>\n",
       "    <tr>\n",
       "      <th>1</th>\n",
       "      <td>8.1881</td>\n",
       "      <td>-3.13380</td>\n",
       "      <td>-2.52760</td>\n",
       "      <td>0</td>\n",
       "    </tr>\n",
       "    <tr>\n",
       "      <th>2</th>\n",
       "      <td>-10.8679</td>\n",
       "      <td>9.49260</td>\n",
       "      <td>-1.41160</td>\n",
       "      <td>1</td>\n",
       "    </tr>\n",
       "    <tr>\n",
       "      <th>3</th>\n",
       "      <td>-8.7903</td>\n",
       "      <td>7.97350</td>\n",
       "      <td>-0.45475</td>\n",
       "      <td>1</td>\n",
       "    </tr>\n",
       "    <tr>\n",
       "      <th>4</th>\n",
       "      <td>-5.5167</td>\n",
       "      <td>10.93900</td>\n",
       "      <td>-0.40820</td>\n",
       "      <td>1</td>\n",
       "    </tr>\n",
       "  </tbody>\n",
       "</table>\n",
       "</div>"
      ],
      "text/plain": [
       "        a1        a2       a3  counterfeit\n",
       "0  12.3784   0.70403 -7.58360            0\n",
       "1   8.1881  -3.13380 -2.52760            0\n",
       "2 -10.8679   9.49260 -1.41160            1\n",
       "3  -8.7903   7.97350 -0.45475            1\n",
       "4  -5.5167  10.93900 -0.40820            1"
      ]
     },
     "execution_count": 139,
     "metadata": {},
     "output_type": "execute_result"
    }
   ],
   "source": [
    "\n",
    "sys.path.append(\"../../\")\n",
    "\n",
    "from mchlearn.plotting import roc_plot, add_roc_curve\n",
    "from mchlearn.plotting import confidence_ellipse, decision_plot\n",
    "\n",
    "data = pd.read_csv('data/banknote_authentication.csv')\n",
    "data = data.dropna(how='any')\n",
    "\n",
    "data.head()"
   ]
  },
  {
   "cell_type": "markdown",
   "metadata": {},
   "source": [
    "## Problem "
   ]
  },
  {
   "cell_type": "markdown",
   "metadata": {},
   "source": [
    "### A."
   ]
  },
  {
   "cell_type": "markdown",
   "metadata": {},
   "source": [
    "Perform the Quadratic Discriminant Analysis on this set. Calculate the confusion matrix, AUC score and plot the ROC curve. "
   ]
  },
  {
   "cell_type": "code",
   "execution_count": 140,
   "metadata": {},
   "outputs": [
    {
     "name": "stdout",
     "output_type": "stream",
     "text": [
      "-------------------------\n",
      "----CONFUSION_MATRIX:----\n",
      "-------------------------\n"
     ]
    },
    {
     "data": {
      "text/html": [
       "<div>\n",
       "<style scoped>\n",
       "    .dataframe tbody tr th:only-of-type {\n",
       "        vertical-align: middle;\n",
       "    }\n",
       "\n",
       "    .dataframe tbody tr th {\n",
       "        vertical-align: top;\n",
       "    }\n",
       "\n",
       "    .dataframe thead th {\n",
       "        text-align: right;\n",
       "    }\n",
       "</style>\n",
       "<table border=\"1\" class=\"dataframe\">\n",
       "  <thead>\n",
       "    <tr style=\"text-align: right;\">\n",
       "      <th></th>\n",
       "      <th>real label 1 (counterfeit)</th>\n",
       "      <th>real label 0 (valid)</th>\n",
       "    </tr>\n",
       "  </thead>\n",
       "  <tbody>\n",
       "    <tr>\n",
       "      <th>predicted label 1 (conterfeit)</th>\n",
       "      <td>0.784483</td>\n",
       "      <td>0.163522</td>\n",
       "    </tr>\n",
       "    <tr>\n",
       "      <th>predicted label 0 (valid)</th>\n",
       "      <td>0.215517</td>\n",
       "      <td>0.836478</td>\n",
       "    </tr>\n",
       "  </tbody>\n",
       "</table>\n",
       "</div>"
      ],
      "text/plain": [
       "                                real label 1 (counterfeit)  \\\n",
       "predicted label 1 (conterfeit)                    0.784483   \n",
       "predicted label 0 (valid)                         0.215517   \n",
       "\n",
       "                                real label 0 (valid)  \n",
       "predicted label 1 (conterfeit)              0.163522  \n",
       "predicted label 0 (valid)                   0.836478  "
      ]
     },
     "metadata": {},
     "output_type": "display_data"
    },
    {
     "name": "stdout",
     "output_type": "stream",
     "text": [
      "\n",
      "\n",
      "-------------------------------\n",
      " FIT_QUALITY:_F1_PRECISION_AUC\n",
      "-------------------------------\n"
     ]
    },
    {
     "data": {
      "text/html": [
       "<div>\n",
       "<style scoped>\n",
       "    .dataframe tbody tr th:only-of-type {\n",
       "        vertical-align: middle;\n",
       "    }\n",
       "\n",
       "    .dataframe tbody tr th {\n",
       "        vertical-align: top;\n",
       "    }\n",
       "\n",
       "    .dataframe thead th {\n",
       "        text-align: right;\n",
       "    }\n",
       "</style>\n",
       "<table border=\"1\" class=\"dataframe\">\n",
       "  <thead>\n",
       "    <tr style=\"text-align: right;\">\n",
       "      <th></th>\n",
       "      <th>tnr</th>\n",
       "      <th>fnr</th>\n",
       "      <th>fpr</th>\n",
       "      <th>tpr</th>\n",
       "      <th>precision</th>\n",
       "      <th>f1</th>\n",
       "      <th>auc</th>\n",
       "    </tr>\n",
       "  </thead>\n",
       "  <tbody>\n",
       "    <tr>\n",
       "      <th>qda</th>\n",
       "      <td>0.836478</td>\n",
       "      <td>0.215517</td>\n",
       "      <td>0.163522</td>\n",
       "      <td>0.784483</td>\n",
       "      <td>0.814545</td>\n",
       "      <td>0.814545</td>\n",
       "      <td>0.886521</td>\n",
       "    </tr>\n",
       "  </tbody>\n",
       "</table>\n",
       "</div>"
      ],
      "text/plain": [
       "          tnr       fnr       fpr       tpr  precision        f1       auc\n",
       "qda  0.836478  0.215517  0.163522  0.784483   0.814545  0.814545  0.886521"
      ]
     },
     "metadata": {},
     "output_type": "display_data"
    },
    {
     "name": "stdout",
     "output_type": "stream",
     "text": [
      "\n",
      "\n",
      "-------------------------------\n",
      "-------------_ROC_-------------\n",
      "-------------------------------\n"
     ]
    },
    {
     "data": {
      "image/png": "[encoded data removed]",
      "text/plain": [
       "<Figure size 576x576 with 1 Axes>"
      ]
     },
     "metadata": {
      "needs_background": "light"
     },
     "output_type": "display_data"
    }
   ],
   "source": [
    "#Set aside 25% of data for testing!\n",
    "seed = 77678\n",
    "train_data, test_data = train_test_split(data, train_size=0.75, test_size=0.25, random_state = seed)\n",
    "\n",
    "#Find train and test datasets.\n",
    "train_X = train_data.iloc[:,:3]\n",
    "train_Y = train_data.iloc[:,3]\n",
    "\n",
    "test_X = test_data.iloc[:,:3]\n",
    "test_Y = test_data.iloc[:,3]\n",
    "\n",
    "#QDA classifier + training + prediction\n",
    "cls=QuadraticDiscriminantAnalysis()\n",
    "cls.fit(train_X,train_Y)\n",
    "test_predicted = cls.predict(test_X)        \n",
    "test_predicted_proba = cls.predict_proba(test_X)[:,1]\n",
    "\n",
    "\n",
    "#confusion matrix\n",
    "tnr, fpr, fnr, tpr = confusion_matrix(test_Y==1, test_predicted_proba>0.5, normalize='true').ravel()\n",
    "disp = pd.DataFrame({\"real label 1 (counterfeit)\":  [tpr, fnr], \"real label 0 (valid)\":\\\n",
    "                             [fpr, tnr]}, index=[\"predicted label 1 (conterfeit)\",\"predicted label 0 (valid)\"])\n",
    "print(\"-------------------------\")\n",
    "print(\"----CONFUSION_MATRIX:----\")\n",
    "print(\"-------------------------\")\n",
    "display(disp)\n",
    "\n",
    "#precision + f1_score + auc\n",
    "precision = precision_score(test_Y, test_predicted, pos_label=1, average='micro')\n",
    "f1 = f1_score(test_Y, test_predicted, pos_label=1, average='micro')\n",
    "\n",
    "auc = roc_auc_score(test_Y, test_predicted_proba)\n",
    "\n",
    "dataframe=pd.DataFrame({'tnr':[tnr],\n",
    "                            'fnr':[fnr],\n",
    "                            'fpr':[fpr],\n",
    "                            'tpr':[tpr],\n",
    "                            'precision' : [precision],\n",
    "                            'f1' :[f1],\n",
    "                            'auc' :[auc]\n",
    "                            }, index=[\"qda\"])\n",
    "    \n",
    "print(\"\\n\\n-------------------------------\")\n",
    "print(\" FIT_QUALITY:_F1_PRECISION_AUC\")\n",
    "print(\"-------------------------------\")\n",
    "display(dataframe)\n",
    "\n",
    "\n",
    "\n",
    "print(\"\\n\\n-------------------------------\")\n",
    "print(\"-------------_ROC_-------------\")\n",
    "print(\"-------------------------------\")\n",
    "from mchlearn.plotting import roc_plot, add_roc_curve\n",
    "fig, ax = roc_plot()\n",
    "add_roc_curve(test_Y, test_predicted_proba, 'QDA', ax);\n",
    "ax.legend(title='AUC');\n",
    "qda_proba=test_predicted_proba\n",
    "\n",
    "plt.show()"
   ]
  },
  {
   "cell_type": "markdown",
   "metadata": {},
   "source": [
    "### B."
   ]
  },
  {
   "cell_type": "markdown",
   "metadata": {},
   "source": [
    "Perform Gaussian Mixture Discriminant Analysis on this set as described in the `gaussian_mixture_model_EM_algorithm` notebook. Use two components for positives and two components for negatives. Calculate the confusion matrix, AUC score and plot the ROC curve. "
   ]
  },
  {
   "cell_type": "code",
   "execution_count": 141,
   "metadata": {},
   "outputs": [
    {
     "name": "stdout",
     "output_type": "stream",
     "text": [
      "DONE\n"
     ]
    }
   ],
   "source": [
    "def make_pdf(cmp):\n",
    "    \"\"\"\n",
    "    Takes a GaussianMixture object and returns corresponding\n",
    "    probability distribution function\n",
    "    \"\"\"\n",
    "    n_cmp = cmp.n_components\n",
    "    dists = [st.multivariate_normal(cmp.means_[i], cmp.covariances_[i]) for i in range(n_cmp)]\n",
    "    def pdf(x):\n",
    "        p = 0.0\n",
    "        for i in range(n_cmp):\n",
    "            p+= cmp.weights_[i]*dists[i].pdf(x)\n",
    "        return p\n",
    "    \n",
    "    return pdf\n",
    "    \n",
    "    \n",
    "def make_predict_proba(cmp0, cmp1, pi0=0.5, pi1=.5):\n",
    "    \"\"\"\n",
    "    Takes two GaussianMixture object and corresponding priors and returns \n",
    "    pdf for conditional probability P(c=1|x)\n",
    "    \"\"\"\n",
    "    pdf0 = make_pdf(cmp0)\n",
    "    pdf1 = make_pdf(cmp1)\n",
    "    def p(x):\n",
    "        p0=pi0*pdf0(x)\n",
    "        p1=pi1*pdf1(x)\n",
    "        return p1/(p1+p0)    \n",
    "        \n",
    "    return p\n",
    "print(\"DONE\")"
   ]
  },
  {
   "cell_type": "code",
   "execution_count": 142,
   "metadata": {},
   "outputs": [
    {
     "name": "stdout",
     "output_type": "stream",
     "text": [
      "-------------------------\n",
      "----CONFUSION_MATRIX:----\n",
      "-------------------------\n"
     ]
    },
    {
     "data": {
      "text/html": [
       "<div>\n",
       "<style scoped>\n",
       "    .dataframe tbody tr th:only-of-type {\n",
       "        vertical-align: middle;\n",
       "    }\n",
       "\n",
       "    .dataframe tbody tr th {\n",
       "        vertical-align: top;\n",
       "    }\n",
       "\n",
       "    .dataframe thead th {\n",
       "        text-align: right;\n",
       "    }\n",
       "</style>\n",
       "<table border=\"1\" class=\"dataframe\">\n",
       "  <thead>\n",
       "    <tr style=\"text-align: right;\">\n",
       "      <th></th>\n",
       "      <th>real label 1 (counterfeit)</th>\n",
       "      <th>real label 0 (valid)</th>\n",
       "    </tr>\n",
       "  </thead>\n",
       "  <tbody>\n",
       "    <tr>\n",
       "      <th>predicted label 1 (conterfeit)</th>\n",
       "      <td>0.784483</td>\n",
       "      <td>0.075472</td>\n",
       "    </tr>\n",
       "    <tr>\n",
       "      <th>predicted label 0 (valid)</th>\n",
       "      <td>0.215517</td>\n",
       "      <td>0.924528</td>\n",
       "    </tr>\n",
       "  </tbody>\n",
       "</table>\n",
       "</div>"
      ],
      "text/plain": [
       "                                real label 1 (counterfeit)  \\\n",
       "predicted label 1 (conterfeit)                    0.784483   \n",
       "predicted label 0 (valid)                         0.215517   \n",
       "\n",
       "                                real label 0 (valid)  \n",
       "predicted label 1 (conterfeit)              0.075472  \n",
       "predicted label 0 (valid)                   0.924528  "
      ]
     },
     "metadata": {},
     "output_type": "display_data"
    },
    {
     "name": "stdout",
     "output_type": "stream",
     "text": [
      "\n",
      "\n",
      "-------------------------------\n",
      " FIT_QUALITY:_AUC_\n",
      "-------------------------------\n"
     ]
    },
    {
     "data": {
      "text/html": [
       "<div>\n",
       "<style scoped>\n",
       "    .dataframe tbody tr th:only-of-type {\n",
       "        vertical-align: middle;\n",
       "    }\n",
       "\n",
       "    .dataframe tbody tr th {\n",
       "        vertical-align: top;\n",
       "    }\n",
       "\n",
       "    .dataframe thead th {\n",
       "        text-align: right;\n",
       "    }\n",
       "</style>\n",
       "<table border=\"1\" class=\"dataframe\">\n",
       "  <thead>\n",
       "    <tr style=\"text-align: right;\">\n",
       "      <th></th>\n",
       "      <th>tnr</th>\n",
       "      <th>fnr</th>\n",
       "      <th>fpr</th>\n",
       "      <th>tpr</th>\n",
       "      <th>auc</th>\n",
       "    </tr>\n",
       "  </thead>\n",
       "  <tbody>\n",
       "    <tr>\n",
       "      <th>GaussianMixture</th>\n",
       "      <td>0.924528</td>\n",
       "      <td>0.215517</td>\n",
       "      <td>0.075472</td>\n",
       "      <td>0.784483</td>\n",
       "      <td>0.946053</td>\n",
       "    </tr>\n",
       "  </tbody>\n",
       "</table>\n",
       "</div>"
      ],
      "text/plain": [
       "                      tnr       fnr       fpr       tpr       auc\n",
       "GaussianMixture  0.924528  0.215517  0.075472  0.784483  0.946053"
      ]
     },
     "metadata": {},
     "output_type": "display_data"
    },
    {
     "name": "stdout",
     "output_type": "stream",
     "text": [
      "\n",
      "\n",
      "-------------------------------\n",
      "-------------_ROC_-------------\n",
      "-------------------------------\n"
     ]
    },
    {
     "data": {
      "image/png": "[encoded data removed]",
      "text/plain": [
       "<Figure size 576x576 with 1 Axes>"
      ]
     },
     "metadata": {
      "needs_background": "light"
     },
     "output_type": "display_data"
    }
   ],
   "source": [
    "#Set aside 25% of data for testing!\n",
    "data = pd.read_csv('data/banknote_authentication.csv')\n",
    "\n",
    "seed = 77678\n",
    "train_data, test_data = train_test_split(data, train_size=0.75, test_size=0.25, random_state = seed)\n",
    "\n",
    "dane_X=data.iloc[:,:3]\n",
    "dane_Y=data.iloc[:,3]\n",
    "\n",
    "#Find train and test datasets.\n",
    "train_X = train_data.iloc[:,:3]\n",
    "train_Y = train_data.iloc[:,3]\n",
    "\n",
    "test_X = test_data.iloc[:,:3]\n",
    "test_Y = test_data.iloc[:,3]\n",
    "\n",
    "hc0_cmp = GaussianMixture(n_components=2, max_iter=100, tol=0.0001) \n",
    "hc1_cmp = GaussianMixture(n_components=2, max_iter=100, tol=0.0001) \n",
    "\n",
    "hc0 = train_X[train_Y==0]\n",
    "hc1 = train_X[train_Y==1]\n",
    "\n",
    "hc0_cmp.fit(hc0)\n",
    "hc1_cmp.fit(hc1)\n",
    "\n",
    "mgd_predict_proba = make_predict_proba(hc0_cmp, hc1_cmp, 0.5, 0.5)\n",
    "mgd_proba = mgd_predict_proba(test_X)\n",
    "\n",
    "#confusion matrix\n",
    "tnr, fpr, fnr, tpr = confusion_matrix(test_Y==1, mgd_proba>0.5, normalize='true').ravel()\n",
    "disp = pd.DataFrame({\"real label 1 (counterfeit)\":  [tpr, fnr], \"real label 0 (valid)\":\\\n",
    "                             [fpr, tnr]}, index=[\"predicted label 1 (conterfeit)\",\"predicted label 0 (valid)\"])\n",
    "print(\"-------------------------\")\n",
    "print(\"----CONFUSION_MATRIX:----\")\n",
    "print(\"-------------------------\")\n",
    "display(disp)\n",
    "\n",
    "#precision + f1_score + auc\n",
    "auc = roc_auc_score(test_Y, mgd_proba)\n",
    "\n",
    "\n",
    "\n",
    "dataframe=pd.DataFrame({'tnr':[tnr],\n",
    "                            'fnr':[fnr],\n",
    "                            'fpr':[fpr],\n",
    "                            'tpr':[tpr],\n",
    "                            'auc' :[auc]\n",
    "                            },index=[\"GaussianMixture\"])\n",
    "\n",
    "print(\"\\n\\n-------------------------------\")\n",
    "print(\" FIT_QUALITY:_AUC_\")\n",
    "print(\"-------------------------------\")\n",
    "display(dataframe)\n",
    "\n",
    "print(\"\\n\\n-------------------------------\")\n",
    "print(\"-------------_ROC_-------------\")\n",
    "print(\"-------------------------------\")\n",
    "fig, ax = roc_plot()\n",
    "add_roc_curve(test_Y, qda_proba, 'QDA', ax);\n",
    "add_roc_curve(test_Y, mgd_proba, 'gaussian_mixture', ax);\n",
    "ax.legend(title='AUC');"
   ]
  },
  {
   "cell_type": "markdown",
   "metadata": {},
   "source": [
    "### C."
   ]
  },
  {
   "cell_type": "markdown",
   "metadata": {},
   "source": [
    "Use k-fold cross validation to find the optimal number of gaussian components for each class. As before calculate the confusion matrix, AUC score and plot the ROC curve for the best classifier. "
   ]
  },
  {
   "cell_type": "markdown",
   "metadata": {},
   "source": [
    "__Hint__ use the `StratifiedKFold` function from scikit-learn library to generate folds. "
   ]
  },
  {
   "cell_type": "code",
   "execution_count": 143,
   "metadata": {},
   "outputs": [
    {
     "name": "stdout",
     "output_type": "stream",
     "text": [
      "DONE\n"
     ]
    }
   ],
   "source": [
    "def make_pdf(cmp):\n",
    "    \"\"\"\n",
    "    Takes a GaussianMixture object and returns corresponding\n",
    "    probability distribution function\n",
    "    \"\"\"\n",
    "    n_cmp = cmp.n_components\n",
    "    dists = [st.multivariate_normal(cmp.means_[i], cmp.covariances_[i]) for i in range(n_cmp)]\n",
    "    def pdf(x):\n",
    "        p = 0.0\n",
    "        for i in range(n_cmp):\n",
    "            p+= cmp.weights_[i]*dists[i].pdf(x)\n",
    "        return p\n",
    "    \n",
    "    return pdf\n",
    "    \n",
    "    \n",
    "def make_predict_proba(cmp0, cmp1, pi0=0.5, pi1=.5):\n",
    "    \"\"\"\n",
    "    Takes two GaussianMixture object and corresponding priors and returns \n",
    "    pdf for conditional probability P(c=1|x)\n",
    "    \"\"\"\n",
    "    pdf0 = make_pdf(cmp0)\n",
    "    pdf1 = make_pdf(cmp1)\n",
    "    def p(x):\n",
    "        p0=pi0*pdf0(x)\n",
    "        p1=pi1*pdf1(x)\n",
    "        return p1/(p1+p0)    \n",
    "        \n",
    "    return p\n",
    "print(\"DONE\")"
   ]
  },
  {
   "cell_type": "code",
   "execution_count": 144,
   "metadata": {},
   "outputs": [
    {
     "name": "stdout",
     "output_type": "stream",
     "text": [
      "[[0.80850633 0.84048057 0.8431982  0.86838569 0.87729303 0.87681053\n",
      "  0.88068006 0.8806372  0.89299435 0.89745607]\n",
      " [0.82735337 0.86607619 0.88893426 0.90002967 0.90837201 0.91912808\n",
      "  0.91081936 0.91868753 0.90878162 0.90829054]\n",
      " [0.86766914 0.88906031 0.89380181 0.91323202 0.91398108 0.92358468\n",
      "  0.91237909 0.90570121 0.90797374 0.9146649 ]\n",
      " [0.86669221 0.89915297 0.91799773 0.91628723 0.91802694 0.93272635\n",
      "  0.9323636  0.92720851 0.91939421 0.92180444]\n",
      " [0.87616528 0.93066759 0.92022997 0.92441708 0.93141267 0.92723781\n",
      "  0.92475635 0.9446711  0.93217328 0.9315848 ]\n",
      " [0.89901378 0.92734453 0.92191035 0.93261777 0.93763224 0.94019948\n",
      "  0.94570062 0.94756368 0.94184823 0.94550357]\n",
      " [0.89299576 0.93376961 0.92458897 0.92652026 0.93776557 0.94434721\n",
      "  0.94591871 0.94446261 0.93987493 0.94080063]\n",
      " [0.89744908 0.93263202 0.93004963 0.93503355 0.94134171 0.94039064\n",
      "  0.95086766 0.93890406 0.94662319 0.9539877 ]\n",
      " [0.90142348 0.93006595 0.92533679 0.94067514 0.94329014 0.94757475\n",
      "  0.95276219 0.94381707 0.94090244 0.94800543]\n",
      " [0.90413406 0.93347408 0.93151482 0.93201353 0.94087178 0.94524574\n",
      "  0.95133004 0.94979222 0.9463057  0.95403699]]\n",
      "DONE\n"
     ]
    }
   ],
   "source": [
    "from sklearn.metrics import accuracy_score\n",
    "\n",
    "#Set aside 25% of data for testing!\n",
    "dane_X= np.array(data.iloc[:,:3])\n",
    "dane_y= np.array(data.iloc[:,3])\n",
    "\n",
    "num_components = [1,2,3,4,5,6,7,8,9,10]\n",
    "\n",
    "model0 = np.array([GaussianMixture(n_components=t, max_iter=300, tol=0.0001) for t in num_components])\n",
    "model1 = np.array([GaussianMixture(n_components=t, max_iter=300, tol=0.0001) for t in num_components])\n",
    "\n",
    "average_scores =  np.zeros((len(num_components), len(num_components)))\n",
    "\n",
    "n_split=5\n",
    "\n",
    "for k in num_components:\n",
    "    for l in num_components:\n",
    "        average_score = 0    \n",
    "        cv = StratifiedKFold(n_splits=n_split, random_state=42, shuffle=True)\n",
    "        for train_index, test_index in cv.split(dane_X, dane_y):\n",
    "\n",
    "            X_train, X_test, y_train, y_test =\\\n",
    "            dane_X[train_index], dane_X[test_index], dane_y[train_index], dane_y[test_index]    \n",
    "\n",
    "            X_train0 = X_train[np.where(y_train == 0)]\n",
    "            X_train1 = X_train[np.where(y_train == 1)]\n",
    "\n",
    "            model0[k-1].fit(X_train0)         \n",
    "            model1[l-1].fit(X_train1)\n",
    "\n",
    "            mgd_predict_proba_opt = make_predict_proba(model0[k-1], model1[l-1], 0.5, 0.5)\n",
    "            mgd_proba_opt = mgd_predict_proba_opt(X_test)\n",
    "            \n",
    "                \n",
    "            f1 = f1_score(y_test, mgd_proba_opt>0.5)\n",
    "\n",
    "            average_score = average_score + (f1/n_split)\n",
    "        average_scores[k-1][l-1] = average_score\n",
    "        \n",
    "print(np.matrix(average_scores))\n",
    "\n",
    "\n",
    "print(\"DONE\")"
   ]
  },
  {
   "cell_type": "code",
   "execution_count": 145,
   "metadata": {},
   "outputs": [
    {
     "data": {
      "image/png": "[encoded data removed]",
      "text/plain": [
       "<Figure size 720x720 with 1 Axes>"
      ]
     },
     "metadata": {
      "needs_background": "light"
     },
     "output_type": "display_data"
    }
   ],
   "source": [
    "fig = plt.figure(figsize=(10,10))\n",
    "ax.set_title('colorMap')\n",
    "ax=fig.add_subplot(111)\n",
    "plt.imshow(average_scores)\n",
    "ax.set_aspect('equal')"
   ]
  },
  {
   "cell_type": "code",
   "execution_count": 146,
   "metadata": {},
   "outputs": [
    {
     "name": "stdout",
     "output_type": "stream",
     "text": [
      "coordinates of max score [counterfeit class, valid class]:  [9, 9]\n"
     ]
    }
   ],
   "source": [
    "max_score = np.where(average_scores == np.amax(average_scores))\n",
    "print(\"coordinates of max score [counterfeit class, valid class]: \", [max_score[0][0], max_score[1][0]])\n",
    "\n",
    "#calculate predictions for the optimal model\n",
    "#(selected in validation process, the brightest cell on the heatmap above)\n",
    "mgd_predict_proba_cross_val = make_predict_proba(model0[max_score[0][0]], model1[max_score[1][0]], 0.5, 0.5)\n",
    "mgd_proba_cross_val = mgd_predict_proba_cross_val(test_X)"
   ]
  },
  {
   "cell_type": "code",
   "execution_count": 147,
   "metadata": {},
   "outputs": [
    {
     "name": "stdout",
     "output_type": "stream",
     "text": [
      "-------------------------\n",
      "----CONFUSION_MATRIX:----\n",
      "-------------------------\n"
     ]
    },
    {
     "data": {
      "text/html": [
       "<div>\n",
       "<style scoped>\n",
       "    .dataframe tbody tr th:only-of-type {\n",
       "        vertical-align: middle;\n",
       "    }\n",
       "\n",
       "    .dataframe tbody tr th {\n",
       "        vertical-align: top;\n",
       "    }\n",
       "\n",
       "    .dataframe thead th {\n",
       "        text-align: right;\n",
       "    }\n",
       "</style>\n",
       "<table border=\"1\" class=\"dataframe\">\n",
       "  <thead>\n",
       "    <tr style=\"text-align: right;\">\n",
       "      <th></th>\n",
       "      <th>real label 1 (counterfeit)</th>\n",
       "      <th>real label 0 (valid)</th>\n",
       "    </tr>\n",
       "  </thead>\n",
       "  <tbody>\n",
       "    <tr>\n",
       "      <th>predicted label 1 (conterfeit)</th>\n",
       "      <td>0.922414</td>\n",
       "      <td>0.025157</td>\n",
       "    </tr>\n",
       "    <tr>\n",
       "      <th>predicted label 0 (valid)</th>\n",
       "      <td>0.077586</td>\n",
       "      <td>0.974843</td>\n",
       "    </tr>\n",
       "  </tbody>\n",
       "</table>\n",
       "</div>"
      ],
      "text/plain": [
       "                                real label 1 (counterfeit)  \\\n",
       "predicted label 1 (conterfeit)                    0.922414   \n",
       "predicted label 0 (valid)                         0.077586   \n",
       "\n",
       "                                real label 0 (valid)  \n",
       "predicted label 1 (conterfeit)              0.025157  \n",
       "predicted label 0 (valid)                   0.974843  "
      ]
     },
     "metadata": {},
     "output_type": "display_data"
    },
    {
     "name": "stdout",
     "output_type": "stream",
     "text": [
      "\n",
      "\n",
      "-------------------------------\n",
      " FIT_QUALITY:_AUC_\n",
      "-------------------------------\n"
     ]
    },
    {
     "data": {
      "text/html": [
       "<div>\n",
       "<style scoped>\n",
       "    .dataframe tbody tr th:only-of-type {\n",
       "        vertical-align: middle;\n",
       "    }\n",
       "\n",
       "    .dataframe tbody tr th {\n",
       "        vertical-align: top;\n",
       "    }\n",
       "\n",
       "    .dataframe thead th {\n",
       "        text-align: right;\n",
       "    }\n",
       "</style>\n",
       "<table border=\"1\" class=\"dataframe\">\n",
       "  <thead>\n",
       "    <tr style=\"text-align: right;\">\n",
       "      <th></th>\n",
       "      <th>tnr</th>\n",
       "      <th>fnr</th>\n",
       "      <th>fpr</th>\n",
       "      <th>tpr</th>\n",
       "      <th>auc</th>\n",
       "    </tr>\n",
       "  </thead>\n",
       "  <tbody>\n",
       "    <tr>\n",
       "      <th>gaussian_mixture_cross_validated</th>\n",
       "      <td>0.974843</td>\n",
       "      <td>0.077586</td>\n",
       "      <td>0.025157</td>\n",
       "      <td>0.922414</td>\n",
       "      <td>0.991759</td>\n",
       "    </tr>\n",
       "  </tbody>\n",
       "</table>\n",
       "</div>"
      ],
      "text/plain": [
       "                                       tnr       fnr       fpr       tpr  \\\n",
       "gaussian_mixture_cross_validated  0.974843  0.077586  0.025157  0.922414   \n",
       "\n",
       "                                       auc  \n",
       "gaussian_mixture_cross_validated  0.991759  "
      ]
     },
     "metadata": {},
     "output_type": "display_data"
    },
    {
     "name": "stdout",
     "output_type": "stream",
     "text": [
      "\n",
      "\n",
      "-------------------------------\n",
      "-------------_ROC_-------------\n",
      "-------------------------------\n"
     ]
    },
    {
     "data": {
      "image/png": "[encoded data removed]",
      "text/plain": [
       "<Figure size 576x576 with 1 Axes>"
      ]
     },
     "metadata": {
      "needs_background": "light"
     },
     "output_type": "display_data"
    }
   ],
   "source": [
    "#confusion matrix\n",
    "tnr, fpr, fnr, tpr = confusion_matrix(test_Y==1, mgd_proba_cross_val>=0.5, normalize='true').ravel()\n",
    "disp_opt = pd.DataFrame({\"real label 1 (counterfeit)\":  [tpr, fnr], \"real label 0 (valid)\":\\\n",
    "                             [fpr, tnr]}, index=[\"predicted label 1 (conterfeit)\",\"predicted label 0 (valid)\"])\n",
    "print(\"-------------------------\")\n",
    "print(\"----CONFUSION_MATRIX:----\")\n",
    "print(\"-------------------------\")\n",
    "display(disp_opt)\n",
    "\n",
    "#AUC score\n",
    "#precision + f1_score + auc\n",
    "auc_opt = roc_auc_score(test_Y, mgd_proba_cross_val)\n",
    "dataframe_opt=pd.DataFrame({'tnr':[tnr],\n",
    "                            'fnr':[fnr],\n",
    "                            'fpr':[fpr],\n",
    "                            'tpr':[tpr],\n",
    "                            'auc' :[auc_opt]\n",
    "                            },index=[\"gaussian_mixture_cross_validated\"])\n",
    "print(\"\\n\\n-------------------------------\")\n",
    "print(\" FIT_QUALITY:_AUC_\")\n",
    "print(\"-------------------------------\")\n",
    "display(dataframe_opt)\n",
    "\n",
    "#ROC score\n",
    "print(\"\\n\\n-------------------------------\")\n",
    "print(\"-------------_ROC_-------------\")\n",
    "print(\"-------------------------------\")\n",
    "fig, ax = roc_plot()\n",
    "add_roc_curve(test_Y, qda_proba, 'QDA', ax);\n",
    "add_roc_curve(test_Y, mgd_proba, 'gaussian_mixture', ax);\n",
    "add_roc_curve(test_Y, mgd_proba_cross_val, 'gaussian_mixture_cross_validated', ax);\n",
    "ax.legend(title='AUC');\n",
    "plt.show()"
   ]
  },
  {
   "cell_type": "markdown",
   "metadata": {},
   "source": [
    "## D.  "
   ]
  },
  {
   "cell_type": "markdown",
   "metadata": {},
   "source": [
    "Assume that 1% of all the customers in your store presents a counterfeit 100PLN bill. If you accept the counterfeit bill you loose 100PLN. If you reject a valid bill,  you may loose the purchase, you estimate this loss as 15PLN on average. For each of the three classifiers find the threshold that minimises your losses and calculates the minimum loss for each classifier. Show the optimal classifiers points on the ROC curves."
   ]
  },
  {
   "cell_type": "markdown",
   "metadata": {},
   "source": [
    "# Error Cost from classification.ipynb: \n",
    "$price2⋅FPR⋅P(P)+price1⋅(1−TPR)⋅P(N)$\n",
    "\n",
    "Problem parameters:  \n",
    "$price2=15PLN$\n",
    "\n",
    "$price1=100PLN$\n",
    "\n",
    "$P(P)=0.99$\n",
    "\n",
    "$P(N)=0.01$\n"
   ]
  },
  {
   "cell_type": "code",
   "execution_count": 152,
   "metadata": {},
   "outputs": [
    {
     "name": "stdout",
     "output_type": "stream",
     "text": [
      "\n",
      "\n",
      "-------------------------------\n",
      "         QDA                    \n",
      "-------------------------------\n",
      "-----------MINIMUM LOSS-----------------\n",
      "Minimal element of error_cost_qda (minimum loss)  0.845 . This element signifies threshold 0.975 , which can be found at index 2 .\n",
      "\n",
      "\n",
      "-------------------------------\n",
      "      COST_vs__THRESHOLD_QDA     \n",
      "-------------------------------\n"
     ]
    },
    {
     "data": {
      "image/png": "[encoded data removed]",
      "text/plain": [
       "<Figure size 432x288 with 1 Axes>"
      ]
     },
     "metadata": {
      "needs_background": "light"
     },
     "output_type": "display_data"
    },
    {
     "name": "stdout",
     "output_type": "stream",
     "text": [
      "\n",
      "\n",
      "-------------------------------\n",
      "-------------_ROC_QDA----------\n",
      "-------------------------------\n"
     ]
    },
    {
     "data": {
      "image/png": "[encoded data removed]",
      "text/plain": [
       "<Figure size 576x576 with 1 Axes>"
      ]
     },
     "metadata": {
      "needs_background": "light"
     },
     "output_type": "display_data"
    }
   ],
   "source": [
    "print(\"\\n\\n-------------------------------\")\n",
    "print(\"         QDA                    \")\n",
    "print(\"-------------------------------\")\n",
    "\n",
    "# TPR, FPR, Threshold for  QDA\n",
    "fpr_qda, tpr_qda, thd_qda = roc_curve(test_Y, test_predicted_proba)\n",
    "\n",
    "error_costs_qda = (15*fpr_qda*0.99)+(100*(1-tpr_qda)*0.01)\n",
    "\n",
    "#Find minimal error cost\n",
    "min_error_cost_qda = np.argmin(error_costs_qda)\n",
    "print(\"-----------MINIMUM LOSS-----------------\")\n",
    "print(\"Minimal element of error_cost_qda (minimum loss) \", np.round(error_costs_qda[min_error_cost_qda], decimals=3), \". This element signifies threshold\",\\\n",
    "      np.round(thd_qda[min_error_cost_qda], decimals=3),\", which can be found at index\", min_error_cost_qda,\".\")\n",
    "\n",
    "#Plot Cost vs Threshold function and find minimum (highlighted with red dot)\n",
    "#ROC score\n",
    "print(\"\\n\\n-------------------------------\")\n",
    "print(\"      COST_vs__THRESHOLD_QDA     \")\n",
    "print(\"-------------------------------\")\n",
    "fig, ax = plt.subplots()\n",
    "ax.set_ylabel(\"Cost\")\n",
    "ax.set_xlabel(\"Threshold\")\n",
    "ax.set_xlim(0,1)\n",
    "ax.plot(thd_qda,error_costs_qda, zorder=1)\n",
    "ax.scatter([thd_qda[min_error_cost_qda]], [error_costs_qda[min_error_cost_qda]], c='red', zorder=2)\n",
    "plt.show()\n",
    "#ROC score\n",
    "print(\"\\n\\n-------------------------------\")\n",
    "print(\"-------------_ROC_QDA----------\")\n",
    "print(\"-------------------------------\")\n",
    "fig, ax = roc_plot()\n",
    "add_roc_curve(test_Y, test_predicted_proba, 'QDA', ax)\n",
    "ax.scatter([fpr_qda[min_error_cost_qda]], [tpr_qda[min_error_cost_qda]], c='red', zorder=5)\n",
    "ax.legend(title = \"AUC score\");\n",
    "plt.show()"
   ]
  },
  {
   "cell_type": "code",
   "execution_count": 153,
   "metadata": {},
   "outputs": [
    {
     "name": "stdout",
     "output_type": "stream",
     "text": [
      "\n",
      "\n",
      "-------------------------------\n",
      "         MGD                    \n",
      "-------------------------------\n",
      "-----------MINIMUM LOSS-----------------\n",
      "Minimal element of error_cost_qda (minumum loss) 0.526 . This element signifies threshold 0.968 , which can be found at index 2 .\n",
      "\n",
      "\n",
      "-------------------------------\n",
      "      COST_vs__THRESHOLD_MGD     \n",
      "-------------------------------\n"
     ]
    },
    {
     "data": {
      "image/png": "[encoded data removed]",
      "text/plain": [
       "<Figure size 432x288 with 1 Axes>"
      ]
     },
     "metadata": {
      "needs_background": "light"
     },
     "output_type": "display_data"
    },
    {
     "name": "stdout",
     "output_type": "stream",
     "text": [
      "\n",
      "\n",
      "-------------------------------\n",
      "-------------_ROC_MGD----------\n",
      "-------------------------------\n"
     ]
    },
    {
     "data": {
      "image/png": "[encoded data removed]",
      "text/plain": [
       "<Figure size 576x576 with 1 Axes>"
      ]
     },
     "metadata": {
      "needs_background": "light"
     },
     "output_type": "display_data"
    }
   ],
   "source": [
    "print(\"\\n\\n-------------------------------\")\n",
    "print(\"         MGD                    \")\n",
    "print(\"-------------------------------\")\n",
    "\n",
    "# TPR, FPR, Threshold for MGD\n",
    "fpr_mgd, tpr_mgd, thd_mgd = roc_curve(test_Y, mgd_proba)\n",
    "\n",
    "error_costs_mgd = (15*fpr_mgd*0.99)+(100*(1-tpr_mgd)*0.01)\n",
    "\n",
    "#Find minimal error cost\n",
    "print(\"-----------MINIMUM LOSS-----------------\")\n",
    "print(\"Minimal element of error_cost_qda (minumum loss)\", np.round(error_costs_mgd[min_error_cost_mgd], decimals=3), \". This element signifies threshold\",\\\n",
    "      np.round(thd_mgd[min_error_cost_mgd], decimals=3),\", which can be found at index\", min_error_cost_mgd,\".\")\n",
    "#Plot Cost vs Threshold function and find minimum (highlighted with red dot)\n",
    "#ROC score\n",
    "print(\"\\n\\n-------------------------------\")\n",
    "print(\"      COST_vs__THRESHOLD_MGD     \")\n",
    "print(\"-------------------------------\")\n",
    "fig, ax = plt.subplots()\n",
    "ax.set_ylabel(\"Cost\")\n",
    "ax.set_xlabel(\"Threshold\")\n",
    "ax.set_xlim(0,1)\n",
    "ax.plot(thd_mgd, error_costs_mgd, zorder=1)\n",
    "ax.scatter([thd_mgd[min_error_cost_mgd]], [error_costs_mgd[min_error_cost_mgd]], c='black', zorder=2)\n",
    "plt.show()\n",
    "#ROC score\n",
    "print(\"\\n\\n-------------------------------\")\n",
    "print(\"-------------_ROC_MGD----------\")\n",
    "print(\"-------------------------------\")\n",
    "fig, ax = roc_plot()\n",
    "add_roc_curve(test_Y, mgd_proba, 'gaussian_mixture', ax)\n",
    "ax.scatter([fpr_mgd[min_error_cost_mgd]], [tpr_mgd[min_error_cost_mgd]], c='black', zorder=3)\n",
    "ax.legend(title = \"AUC score\");\n",
    "plt.show()"
   ]
  },
  {
   "cell_type": "code",
   "execution_count": 154,
   "metadata": {},
   "outputs": [
    {
     "name": "stdout",
     "output_type": "stream",
     "text": [
      "\n",
      "\n",
      "-------------------------------\n",
      "         MGD_CV                    \n",
      "-------------------------------\n",
      "-------------MINIMUM LOSS-------------------\n",
      "Minimal element of error_cost_qda (minimum loss) 0.282 . This element signifies threshold 0.96 , which can be found at index 7 .\n",
      "\n",
      "\n",
      "-------------------------------\n",
      "    COST_vs__THRESHOLD_MGD_CV_     \n",
      "-------------------------------\n"
     ]
    },
    {
     "data": {
      "image/png": "[encoded data removed]",
      "text/plain": [
       "<Figure size 432x288 with 1 Axes>"
      ]
     },
     "metadata": {
      "needs_background": "light"
     },
     "output_type": "display_data"
    },
    {
     "name": "stdout",
     "output_type": "stream",
     "text": [
      "\n",
      "\n",
      "-------------------------------\n",
      "           _ROC_MGD_CV_        \n",
      "-------------------------------\n"
     ]
    },
    {
     "data": {
      "image/png": "[encoded data removed]",
      "text/plain": [
       "<Figure size 576x576 with 1 Axes>"
      ]
     },
     "metadata": {
      "needs_background": "light"
     },
     "output_type": "display_data"
    }
   ],
   "source": [
    "print(\"\\n\\n-------------------------------\")\n",
    "print(\"         MGD_CV                    \")\n",
    "print(\"-------------------------------\")\n",
    "\n",
    "# TPR, FPR, Threshold for MGD_CV\n",
    "fpr_mgd_cv, tpr_mgd_cv, thd_mgd_cv = roc_curve(test_Y, mgd_proba_cross_val)\n",
    "\n",
    "error_costs_mgd_cv = (15*fpr_mgd_cv*0.99)+(100*(1-tpr_mgd_cv)*0.01)\n",
    "\n",
    "#Find minimal error cost\n",
    "min_error_cost_mgd_cv = np.argmin(error_costs_mgd_cv)\n",
    "print(\"-------------MINIMUM LOSS-------------------\")\n",
    "print(\"Minimal element of error_cost_qda (minimum loss)\", np.round(error_costs_mgd_cv[min_error_cost_mgd_cv], decimals=3), \". This element signifies threshold\",\\\n",
    "      np.round(thd_qda[min_error_cost_mgd_cv], decimals=3),\", which can be found at index\", min_error_cost_mgd_cv,\".\")\n",
    "\n",
    "#Plot Cost vs Threshold function and find minimum (highlighted with red dot)\n",
    "#ROC score\n",
    "print(\"\\n\\n-------------------------------\")\n",
    "print(\"    COST_vs__THRESHOLD_MGD_CV_     \")\n",
    "print(\"-------------------------------\")\n",
    "fig, ax = plt.subplots()\n",
    "ax.set_ylabel(\"Cost\")\n",
    "ax.set_xlabel(\"Threshold\")\n",
    "ax.set_xlim(0,1)\n",
    "ax.plot(thd_mgd_cv, error_costs_mgd_cv, zorder=1)\n",
    "ax.scatter([thd_mgd_cv[min_error_cost_mgd_cv]], [error_costs_mgd_cv[min_error_cost_mgd_cv]], c='violet', zorder=2)\n",
    "plt.show()\n",
    "#ROC score\n",
    "print(\"\\n\\n-------------------------------\")\n",
    "print(\"           _ROC_MGD_CV_        \")\n",
    "print(\"-------------------------------\")\n",
    "fig, ax = roc_plot()\n",
    "add_roc_curve(test_Y, mgd_proba_cross_val, 'gaussian_mixture_cross_validated', ax)\n",
    "ax.scatter([fpr_mgd_cv[min_error_cost_mgd_cv]], [tpr_mgd_cv[min_error_cost_mgd_cv]], c='violet', zorder=3)\n",
    "ax.legend(title = \"AUC score\");\n",
    "plt.show()"
   ]
  },
  {
   "cell_type": "code",
   "execution_count": 155,
   "metadata": {},
   "outputs": [
    {
     "name": "stdout",
     "output_type": "stream",
     "text": [
      "\n",
      "\n",
      "\n",
      "---------------------------------------------------------\n",
      "                    SUMMARY                              \n",
      "---------------------------------------------------------\n"
     ]
    },
    {
     "data": {
      "image/png": "[encoded data removed]",
      "text/plain": [
       "<Figure size 576x576 with 1 Axes>"
      ]
     },
     "metadata": {
      "needs_background": "light"
     },
     "output_type": "display_data"
    }
   ],
   "source": [
    "#---------------------------------------------SUMMARY----------------------------------------------------\n",
    "print(\"\\n\\n\")\n",
    "print(\"---------------------------------------------------------\")\n",
    "print(\"                    SUMMARY                              \")\n",
    "print(\"---------------------------------------------------------\")\n",
    "fig, ax = roc_plot()\n",
    "\n",
    "add_roc_curve(test_Y, qda_proba, 'QDA', ax)\n",
    "add_roc_curve(test_Y, mgd_proba, 'gaussian_mixture', ax)\n",
    "add_roc_curve(test_Y, mgd_proba_cross_val, 'gaussian_mixture_cross_validated', ax)\n",
    "\n",
    "ax.scatter([fpr_qda[min_error_cost_qda]], [tpr_qda[min_error_cost_qda]], c='red', zorder=3)\n",
    "ax.scatter([fpr_mgd[min_error_cost_mgd]], [tpr_mgd[min_error_cost_mgd]], c='black', zorder=3)\n",
    "ax.scatter([fpr_mgd_cv[min_error_cost_mgd_cv]], [tpr_mgd_cv[min_error_cost_mgd_cv]], c='violet', zorder=3)\n",
    "\n",
    "ax.legend(title = \"AUC score\")\n",
    "plt.show()"
   ]
  }
 ],
 "metadata": {
  "jupytext": {
   "text_representation": {
    "extension": ".Rmd",
    "format_name": "rmarkdown",
    "format_version": "1.2",
    "jupytext_version": "1.4.1"
   }
  },
  "kernelspec": {
   "display_name": "Python 3",
   "language": "python",
   "name": "python3"
  },
  "language_info": {
   "codemirror_mode": {
    "name": "ipython",
    "version": 3
   },
   "file_extension": ".py",
   "mimetype": "text/x-python",
   "name": "python",
   "nbconvert_exporter": "python",
   "pygments_lexer": "ipython3",
   "version": "3.7.6"
  }
 },
 "nbformat": 4,
 "nbformat_minor": 4
}
